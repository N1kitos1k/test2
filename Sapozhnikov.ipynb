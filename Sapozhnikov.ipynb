{
 "cells": [
  {
   "cell_type": "code",
   "execution_count": 1,
   "metadata": {},
   "outputs": [
    {
     "name": "stdout",
     "output_type": "stream",
     "text": [
      "Requirement already satisfied: pandas in /home/codespace/.local/lib/python3.12/site-packages (2.2.3)\n",
      "Requirement already satisfied: numpy>=1.26.0 in /home/codespace/.local/lib/python3.12/site-packages (from pandas) (2.2.0)\n",
      "Requirement already satisfied: python-dateutil>=2.8.2 in /home/codespace/.local/lib/python3.12/site-packages (from pandas) (2.9.0.post0)\n",
      "Requirement already satisfied: pytz>=2020.1 in /home/codespace/.local/lib/python3.12/site-packages (from pandas) (2024.2)\n",
      "Requirement already satisfied: tzdata>=2022.7 in /home/codespace/.local/lib/python3.12/site-packages (from pandas) (2024.2)\n",
      "Requirement already satisfied: six>=1.5 in /home/codespace/.local/lib/python3.12/site-packages (from python-dateutil>=2.8.2->pandas) (1.17.0)\n",
      "\n",
      "\u001b[1m[\u001b[0m\u001b[34;49mnotice\u001b[0m\u001b[1;39;49m]\u001b[0m\u001b[39;49m A new release of pip is available: \u001b[0m\u001b[31;49m24.3.1\u001b[0m\u001b[39;49m -> \u001b[0m\u001b[32;49m25.0.1\u001b[0m\n",
      "\u001b[1m[\u001b[0m\u001b[34;49mnotice\u001b[0m\u001b[1;39;49m]\u001b[0m\u001b[39;49m To update, run: \u001b[0m\u001b[32;49mpip install --upgrade pip\u001b[0m\n",
      "Note: you may need to restart the kernel to use updated packages.\n"
     ]
    }
   ],
   "source": [
    "pip install pandas"
   ]
  },
  {
   "cell_type": "code",
   "execution_count": 2,
   "metadata": {},
   "outputs": [
    {
     "name": "stdout",
     "output_type": "stream",
     "text": [
      "Requirement already satisfied: openpyxl in /home/codespace/.python/current/lib/python3.12/site-packages (3.1.5)\n",
      "Requirement already satisfied: et-xmlfile in /home/codespace/.python/current/lib/python3.12/site-packages (from openpyxl) (2.0.0)\n",
      "\n",
      "\u001b[1m[\u001b[0m\u001b[34;49mnotice\u001b[0m\u001b[1;39;49m]\u001b[0m\u001b[39;49m A new release of pip is available: \u001b[0m\u001b[31;49m24.3.1\u001b[0m\u001b[39;49m -> \u001b[0m\u001b[32;49m25.0.1\u001b[0m\n",
      "\u001b[1m[\u001b[0m\u001b[34;49mnotice\u001b[0m\u001b[1;39;49m]\u001b[0m\u001b[39;49m To update, run: \u001b[0m\u001b[32;49mpip install --upgrade pip\u001b[0m\n",
      "Note: you may need to restart the kernel to use updated packages.\n"
     ]
    }
   ],
   "source": [
    "pip install openpyxl"
   ]
  },
  {
   "cell_type": "code",
   "execution_count": 3,
   "metadata": {},
   "outputs": [],
   "source": [
    "import pandas as pd"
   ]
  },
  {
   "cell_type": "code",
   "execution_count": 4,
   "metadata": {},
   "outputs": [],
   "source": [
    "df = pd.read_excel(\"https://github.com/junaart/ForStudents/raw/refs/heads/main/R/Zachet/DataSets/4.xlsx\")"
   ]
  },
  {
   "cell_type": "code",
   "execution_count": 5,
   "metadata": {},
   "outputs": [
    {
     "data": {
      "text/html": [
       "<div>\n",
       "<style scoped>\n",
       "    .dataframe tbody tr th:only-of-type {\n",
       "        vertical-align: middle;\n",
       "    }\n",
       "\n",
       "    .dataframe tbody tr th {\n",
       "        vertical-align: top;\n",
       "    }\n",
       "\n",
       "    .dataframe thead th {\n",
       "        text-align: right;\n",
       "    }\n",
       "</style>\n",
       "<table border=\"1\" class=\"dataframe\">\n",
       "  <thead>\n",
       "    <tr style=\"text-align: right;\">\n",
       "      <th></th>\n",
       "      <th>town1</th>\n",
       "      <th>Avg-Avg-О2011</th>\n",
       "      <th>Avg-Avg-О2012</th>\n",
       "      <th>Avg-Avg-О2013</th>\n",
       "      <th>Avg-Avg-О2014</th>\n",
       "      <th>Avg-Avg-О202</th>\n",
       "      <th>Avg-Avg-О203</th>\n",
       "      <th>Avg-Avg-О204</th>\n",
       "      <th>Avg-Avg-О205</th>\n",
       "      <th>Avg-Avg-О211</th>\n",
       "      <th>Avg-Avg-О212</th>\n",
       "      <th>Avg-Avg-О213</th>\n",
       "      <th>Avg-Avg-О221</th>\n",
       "      <th>Avg-Avg-О222</th>\n",
       "      <th>Avg-Avg-О223</th>\n",
       "      <th>Avg-Avg-О224</th>\n",
       "      <th>Avg-Avg-О23</th>\n",
       "      <th>Avg-Avg-О24</th>\n",
       "    </tr>\n",
       "  </thead>\n",
       "  <tbody>\n",
       "    <tr>\n",
       "      <th>0</th>\n",
       "      <td>Абакан</td>\n",
       "      <td>24.125</td>\n",
       "      <td>9.275000</td>\n",
       "      <td>11.900000</td>\n",
       "      <td>7.4</td>\n",
       "      <td>45.325</td>\n",
       "      <td>3.025000</td>\n",
       "      <td>7.045</td>\n",
       "      <td>0.250000</td>\n",
       "      <td>734554.250000</td>\n",
       "      <td>135482.275000</td>\n",
       "      <td>1041.65</td>\n",
       "      <td>17608.100000</td>\n",
       "      <td>89.4</td>\n",
       "      <td>5841.525000</td>\n",
       "      <td>1124.175</td>\n",
       "      <td>1145.375</td>\n",
       "      <td>11561.400</td>\n",
       "    </tr>\n",
       "    <tr>\n",
       "      <th>1</th>\n",
       "      <td>Азовский район</td>\n",
       "      <td>4.000</td>\n",
       "      <td>2.333333</td>\n",
       "      <td>1.666667</td>\n",
       "      <td>0.0</td>\n",
       "      <td>0.000</td>\n",
       "      <td>2.333333</td>\n",
       "      <td>8.000</td>\n",
       "      <td>0.666667</td>\n",
       "      <td>10070.633333</td>\n",
       "      <td>7003.233333</td>\n",
       "      <td>11.40</td>\n",
       "      <td>10363.366667</td>\n",
       "      <td>0.0</td>\n",
       "      <td>5895.166667</td>\n",
       "      <td>0.000</td>\n",
       "      <td>0.000</td>\n",
       "      <td>10599.500</td>\n",
       "    </tr>\n",
       "    <tr>\n",
       "      <th>2</th>\n",
       "      <td>Аксайский район</td>\n",
       "      <td>35.250</td>\n",
       "      <td>7.500000</td>\n",
       "      <td>39.125000</td>\n",
       "      <td>5.0</td>\n",
       "      <td>1.750</td>\n",
       "      <td>4.975000</td>\n",
       "      <td>61.350</td>\n",
       "      <td>46.250000</td>\n",
       "      <td>77963.247500</td>\n",
       "      <td>47456.745000</td>\n",
       "      <td>538.00</td>\n",
       "      <td>156383.575000</td>\n",
       "      <td>0.0</td>\n",
       "      <td>2713.625000</td>\n",
       "      <td>1812.750</td>\n",
       "      <td>0.000</td>\n",
       "      <td>68427.425</td>\n",
       "    </tr>\n",
       "    <tr>\n",
       "      <th>3</th>\n",
       "      <td>Алексеевкий район</td>\n",
       "      <td>0.000</td>\n",
       "      <td>0.000000</td>\n",
       "      <td>0.000000</td>\n",
       "      <td>0.0</td>\n",
       "      <td>0.000</td>\n",
       "      <td>0.000000</td>\n",
       "      <td>0.000</td>\n",
       "      <td>0.000000</td>\n",
       "      <td>1777.500000</td>\n",
       "      <td>533.350000</td>\n",
       "      <td>0.00</td>\n",
       "      <td>1230.500000</td>\n",
       "      <td>0.0</td>\n",
       "      <td>0.000000</td>\n",
       "      <td>0.000</td>\n",
       "      <td>0.000</td>\n",
       "      <td>958.950</td>\n",
       "    </tr>\n",
       "    <tr>\n",
       "      <th>4</th>\n",
       "      <td>Анапа</td>\n",
       "      <td>6.500</td>\n",
       "      <td>2.000000</td>\n",
       "      <td>5.500000</td>\n",
       "      <td>0.0</td>\n",
       "      <td>0.000</td>\n",
       "      <td>3.000000</td>\n",
       "      <td>7.000</td>\n",
       "      <td>0.000000</td>\n",
       "      <td>1262.150000</td>\n",
       "      <td>495.950000</td>\n",
       "      <td>6057.40</td>\n",
       "      <td>13442.950000</td>\n",
       "      <td>0.0</td>\n",
       "      <td>0.000000</td>\n",
       "      <td>0.000</td>\n",
       "      <td>0.000</td>\n",
       "      <td>7009.900</td>\n",
       "    </tr>\n",
       "  </tbody>\n",
       "</table>\n",
       "</div>"
      ],
      "text/plain": [
       "               town1  Avg-Avg-О2011  Avg-Avg-О2012  Avg-Avg-О2013  \\\n",
       "0             Абакан         24.125       9.275000      11.900000   \n",
       "1     Азовский район          4.000       2.333333       1.666667   \n",
       "2    Аксайский район         35.250       7.500000      39.125000   \n",
       "3  Алексеевкий район          0.000       0.000000       0.000000   \n",
       "4              Анапа          6.500       2.000000       5.500000   \n",
       "\n",
       "   Avg-Avg-О2014  Avg-Avg-О202  Avg-Avg-О203  Avg-Avg-О204  Avg-Avg-О205  \\\n",
       "0            7.4        45.325      3.025000         7.045      0.250000   \n",
       "1            0.0         0.000      2.333333         8.000      0.666667   \n",
       "2            5.0         1.750      4.975000        61.350     46.250000   \n",
       "3            0.0         0.000      0.000000         0.000      0.000000   \n",
       "4            0.0         0.000      3.000000         7.000      0.000000   \n",
       "\n",
       "    Avg-Avg-О211   Avg-Avg-О212  Avg-Avg-О213   Avg-Avg-О221  Avg-Avg-О222  \\\n",
       "0  734554.250000  135482.275000       1041.65   17608.100000          89.4   \n",
       "1   10070.633333    7003.233333         11.40   10363.366667           0.0   \n",
       "2   77963.247500   47456.745000        538.00  156383.575000           0.0   \n",
       "3    1777.500000     533.350000          0.00    1230.500000           0.0   \n",
       "4    1262.150000     495.950000       6057.40   13442.950000           0.0   \n",
       "\n",
       "   Avg-Avg-О223  Avg-Avg-О224  Avg-Avg-О23  Avg-Avg-О24  \n",
       "0   5841.525000      1124.175     1145.375    11561.400  \n",
       "1   5895.166667         0.000        0.000    10599.500  \n",
       "2   2713.625000      1812.750        0.000    68427.425  \n",
       "3      0.000000         0.000        0.000      958.950  \n",
       "4      0.000000         0.000        0.000     7009.900  "
      ]
     },
     "execution_count": 5,
     "metadata": {},
     "output_type": "execute_result"
    }
   ],
   "source": [
    "df.head()"
   ]
  },
  {
   "cell_type": "code",
   "execution_count": 6,
   "metadata": {},
   "outputs": [
    {
     "name": "stdout",
     "output_type": "stream",
     "text": [
      "Requirement already satisfied: redis in /home/codespace/.python/current/lib/python3.12/site-packages (5.2.1)\n",
      "\n",
      "\u001b[1m[\u001b[0m\u001b[34;49mnotice\u001b[0m\u001b[1;39;49m]\u001b[0m\u001b[39;49m A new release of pip is available: \u001b[0m\u001b[31;49m24.3.1\u001b[0m\u001b[39;49m -> \u001b[0m\u001b[32;49m25.0.1\u001b[0m\n",
      "\u001b[1m[\u001b[0m\u001b[34;49mnotice\u001b[0m\u001b[1;39;49m]\u001b[0m\u001b[39;49m To update, run: \u001b[0m\u001b[32;49mpip install --upgrade pip\u001b[0m\n",
      "Note: you may need to restart the kernel to use updated packages.\n"
     ]
    }
   ],
   "source": [
    "pip install redis"
   ]
  },
  {
   "cell_type": "code",
   "execution_count": 7,
   "metadata": {},
   "outputs": [],
   "source": [
    "import redis as rd"
   ]
  },
  {
   "cell_type": "code",
   "execution_count": 8,
   "metadata": {},
   "outputs": [],
   "source": [
    "rd = rd.Redis(host='localhost', port=6379, db=0)"
   ]
  },
  {
   "cell_type": "code",
   "execution_count": 9,
   "metadata": {},
   "outputs": [
    {
     "data": {
      "text/plain": [
       "0      24.125000\n",
       "1       4.000000\n",
       "2      35.250000\n",
       "3       0.000000\n",
       "4       6.500000\n",
       "         ...    \n",
       "276    19.650000\n",
       "277    35.810833\n",
       "278    35.666667\n",
       "279    56.517857\n",
       "280     8.666667\n",
       "Name: Avg-Avg-О2011, Length: 281, dtype: float64"
      ]
     },
     "execution_count": 9,
     "metadata": {},
     "output_type": "execute_result"
    }
   ],
   "source": [
    "df[\"Avg-Avg-О2011\"]"
   ]
  },
  {
   "cell_type": "code",
   "execution_count": 10,
   "metadata": {},
   "outputs": [
    {
     "data": {
      "text/plain": [
       "'24.125'"
      ]
     },
     "execution_count": 10,
     "metadata": {},
     "output_type": "execute_result"
    }
   ],
   "source": [
    "str(df[\"Avg-Avg-О2011\"][0])"
   ]
  },
  {
   "cell_type": "code",
   "execution_count": 11,
   "metadata": {},
   "outputs": [
    {
     "data": {
      "text/plain": [
       "'Абакан'"
      ]
     },
     "execution_count": 11,
     "metadata": {},
     "output_type": "execute_result"
    }
   ],
   "source": [
    "df.iloc[0,0]"
   ]
  },
  {
   "cell_type": "code",
   "execution_count": 12,
   "metadata": {},
   "outputs": [
    {
     "data": {
      "text/plain": [
       "0                 Абакан\n",
       "1         Азовский район\n",
       "2        Аксайский район\n",
       "3      Алексеевкий район\n",
       "4                  Анапа\n",
       "             ...        \n",
       "276       Южно-Сахалинск\n",
       "277               Якутск\n",
       "278                 Ялта\n",
       "279            Ярославль\n",
       "280    Ярославский район\n",
       "Name: town1, Length: 281, dtype: object"
      ]
     },
     "execution_count": 12,
     "metadata": {},
     "output_type": "execute_result"
    }
   ],
   "source": [
    "df.iloc[:,0]"
   ]
  },
  {
   "cell_type": "code",
   "execution_count": 13,
   "metadata": {},
   "outputs": [
    {
     "data": {
      "text/plain": [
       "town1                Абакан\n",
       "Avg-Avg-О2011        24.125\n",
       "Avg-Avg-О2012         9.275\n",
       "Avg-Avg-О2013          11.9\n",
       "Avg-Avg-О2014           7.4\n",
       "Avg-Avg-О202         45.325\n",
       "Avg-Avg-О203          3.025\n",
       "Avg-Avg-О204          7.045\n",
       "Avg-Avg-О205           0.25\n",
       "Avg-Avg-О211      734554.25\n",
       "Avg-Avg-О212     135482.275\n",
       "Avg-Avg-О213        1041.65\n",
       "Avg-Avg-О221        17608.1\n",
       "Avg-Avg-О222           89.4\n",
       "Avg-Avg-О223       5841.525\n",
       "Avg-Avg-О224       1124.175\n",
       "Avg-Avg-О23        1145.375\n",
       "Avg-Avg-О24         11561.4\n",
       "Name: 0, dtype: object"
      ]
     },
     "execution_count": 13,
     "metadata": {},
     "output_type": "execute_result"
    }
   ],
   "source": [
    "df.iloc[0,]"
   ]
  },
  {
   "cell_type": "code",
   "execution_count": 15,
   "metadata": {},
   "outputs": [],
   "source": [
    "import redis as rd\n",
    "r=rd.Redis() \n",
    "key = \"my\"\n",
    "for i in range(len(df[\"Avg-Avg-О2011\"])):\n",
    "    r.set(key+str(i),str(df[\"Avg-Avg-О2011\"].iloc[i]))"
   ]
  },
  {
   "cell_type": "code",
   "execution_count": 16,
   "metadata": {},
   "outputs": [
    {
     "data": {
      "text/plain": [
       "b'24.125'"
      ]
     },
     "execution_count": 16,
     "metadata": {},
     "output_type": "execute_result"
    }
   ],
   "source": [
    "r.get(\"my0\")"
   ]
  },
  {
   "cell_type": "code",
   "execution_count": 17,
   "metadata": {},
   "outputs": [
    {
     "data": {
      "text/plain": [
       "0       9.275000\n",
       "1       2.333333\n",
       "2       7.500000\n",
       "3       0.000000\n",
       "4       2.000000\n",
       "         ...    \n",
       "276     5.300000\n",
       "277    11.278333\n",
       "278    11.833333\n",
       "279    18.764286\n",
       "280     3.666667\n",
       "Name: Avg-Avg-О2012, Length: 281, dtype: float64"
      ]
     },
     "execution_count": 17,
     "metadata": {},
     "output_type": "execute_result"
    }
   ],
   "source": [
    "df[\"Avg-Avg-О2012\"]"
   ]
  },
  {
   "cell_type": "code",
   "execution_count": 18,
   "metadata": {},
   "outputs": [],
   "source": [
    "r=rd.Redis() \n",
    "key = \"my\"\n",
    "for i in range(len(df[\"Avg-Avg-О2012\"])):\n",
    "    r.set(key+str(i),str(df[\"Avg-Avg-О2012\"].iloc[i]))"
   ]
  },
  {
   "cell_type": "code",
   "execution_count": 19,
   "metadata": {},
   "outputs": [],
   "source": [
    "r=rd.Redis() \n",
    "key = \"my\"\n",
    "for i in range(len(df[\"Avg-Avg-О2012\"])):\n",
    "    r.set(key+str(i),str(df[\"Avg-Avg-О2012\"].iloc[i]))"
   ]
  },
  {
   "cell_type": "code",
   "execution_count": 20,
   "metadata": {},
   "outputs": [],
   "source": [
    "r=rd.Redis() \n",
    "key = \"my\"\n",
    "for i in range(len(df[\"Avg-Avg-О2013\"])):\n",
    "    r.set(key+str(i),str(df[\"Avg-Avg-О2013\"].iloc[i]))"
   ]
  },
  {
   "cell_type": "code",
   "execution_count": 21,
   "metadata": {},
   "outputs": [],
   "source": [
    "r=rd.Redis() \n",
    "key = \"my\"\n",
    "for i in range(len(df[\"Avg-Avg-О2014\"])):\n",
    "    r.set(key+str(i),str(df[\"Avg-Avg-О2014\"].iloc[i]))"
   ]
  },
  {
   "cell_type": "code",
   "execution_count": 22,
   "metadata": {},
   "outputs": [],
   "source": [
    "r=rd.Redis() \n",
    "key = \"my\"\n",
    "for i in range(len(df[\"Avg-Avg-О202\"])):\n",
    "    r.set(key+str(i),str(df[\"Avg-Avg-О202\"].iloc[i]))"
   ]
  },
  {
   "cell_type": "code",
   "execution_count": 23,
   "metadata": {},
   "outputs": [],
   "source": [
    "\n",
    "r=rd.Redis() \n",
    "key = \"my\"\n",
    "for i in range(len(df[\"Avg-Avg-О203\"])):\n",
    "    r.set(key+str(i),str(df[\"Avg-Avg-О203\"].iloc[i]))"
   ]
  },
  {
   "cell_type": "code",
   "execution_count": 24,
   "metadata": {},
   "outputs": [],
   "source": [
    "r=rd.Redis() \n",
    "key = \"my\"\n",
    "for i in range(len(df[\"Avg-Avg-О204\"])):\n",
    "    r.set(key+str(i),str(df[\"Avg-Avg-О204\"].iloc[i]))"
   ]
  },
  {
   "cell_type": "code",
   "execution_count": 25,
   "metadata": {},
   "outputs": [],
   "source": [
    "r=rd.Redis() \n",
    "key = \"my\"\n",
    "for i in range(len(df[\"Avg-Avg-О205\"])):\n",
    "    r.set(key+str(i),str(df[\"Avg-Avg-О205\"].iloc[i]))"
   ]
  },
  {
   "cell_type": "code",
   "execution_count": 26,
   "metadata": {},
   "outputs": [],
   "source": [
    "r=rd.Redis() \n",
    "key = \"my\"\n",
    "for i in range(len(df[\"Avg-Avg-О211\"])):\n",
    "    r.set(key+str(i),str(df[\"Avg-Avg-О211\"].iloc[i]))"
   ]
  },
  {
   "cell_type": "code",
   "execution_count": 27,
   "metadata": {},
   "outputs": [],
   "source": [
    "r=rd.Redis() \n",
    "key = \"my\"\n",
    "for i in range(len(df[\"Avg-Avg-О212\"])):\n",
    "    r.set(key+str(i),str(df[\"Avg-Avg-О212\"].iloc[i]))"
   ]
  },
  {
   "cell_type": "code",
   "execution_count": 28,
   "metadata": {},
   "outputs": [],
   "source": [
    "r=rd.Redis() \n",
    "key = \"my\"\n",
    "for i in range(len(df[\"Avg-Avg-О213\"])):\n",
    "    r.set(key+str(i),str(df[\"Avg-Avg-О213\"].iloc[i]))"
   ]
  },
  {
   "cell_type": "code",
   "execution_count": 29,
   "metadata": {},
   "outputs": [],
   "source": [
    "r=rd.Redis() \n",
    "key = \"my\"\n",
    "for i in range(len(df[\"Avg-Avg-О221\"])):\n",
    "    r.set(key+str(i),str(df[\"Avg-Avg-О221\"].iloc[i]))"
   ]
  },
  {
   "cell_type": "code",
   "execution_count": 30,
   "metadata": {},
   "outputs": [],
   "source": [
    "r=rd.Redis() \n",
    "key = \"my\"\n",
    "for i in range(len(df[\"Avg-Avg-О222\"])):\n",
    "    r.set(key+str(i),str(df[\"Avg-Avg-О222\"].iloc[i]))"
   ]
  },
  {
   "cell_type": "code",
   "execution_count": 31,
   "metadata": {},
   "outputs": [],
   "source": [
    "r=rd.Redis() \n",
    "key = \"my\"\n",
    "for i in range(len(df[\"Avg-Avg-О223\"])):\n",
    "    r.set(key+str(i),str(df[\"Avg-Avg-О223\"].iloc[i]))"
   ]
  },
  {
   "cell_type": "code",
   "execution_count": 32,
   "metadata": {},
   "outputs": [],
   "source": [
    "r=rd.Redis() \n",
    "key = \"my\"\n",
    "for i in range(len(df[\"Avg-Avg-О224\"])):\n",
    "    r.set(key+str(i),str(df[\"Avg-Avg-О224\"].iloc[i]))"
   ]
  },
  {
   "cell_type": "code",
   "execution_count": 33,
   "metadata": {},
   "outputs": [],
   "source": [
    "r=rd.Redis() \n",
    "key = \"my\"\n",
    "for i in range(len(df[\"Avg-Avg-О23\"])):\n",
    "    r.set(key+str(i),str(df[\"Avg-Avg-О23\"].iloc[i]))"
   ]
  },
  {
   "cell_type": "code",
   "execution_count": 34,
   "metadata": {},
   "outputs": [],
   "source": [
    "r=rd.Redis() \n",
    "key = \"my\"\n",
    "for i in range(len(df[\"Avg-Avg-О224\"])):\n",
    "    r.set(key+str(i),str(df[\"Avg-Avg-О224\"].iloc[i]))"
   ]
  },
  {
   "cell_type": "code",
   "execution_count": 35,
   "metadata": {},
   "outputs": [
    {
     "data": {
      "text/plain": [
       "[b'my221',\n",
       " b'my28',\n",
       " b'my161',\n",
       " b'my266',\n",
       " b'my124',\n",
       " b'my91',\n",
       " b'my277',\n",
       " b'my75',\n",
       " b'my122',\n",
       " b'my15',\n",
       " b'my239',\n",
       " b'my0',\n",
       " b'my250',\n",
       " b'my77',\n",
       " b'my40',\n",
       " b'my81',\n",
       " b'my101',\n",
       " b'my16',\n",
       " b'my135',\n",
       " b'my55',\n",
       " b'my78',\n",
       " b'my274',\n",
       " b'my253',\n",
       " b'my115',\n",
       " b'my26',\n",
       " b'my27',\n",
       " b'my220',\n",
       " b'my53',\n",
       " b'my171',\n",
       " b'my202',\n",
       " b'my102',\n",
       " b'my52',\n",
       " b'my258',\n",
       " b'my100',\n",
       " b'my146',\n",
       " b'my152',\n",
       " b'my214',\n",
       " b'my182',\n",
       " b'my271',\n",
       " b'my83',\n",
       " b'my8',\n",
       " b'my111',\n",
       " b'my226',\n",
       " b'my61',\n",
       " b'my70',\n",
       " b'my228',\n",
       " b'my33',\n",
       " b'my71',\n",
       " b'my187',\n",
       " b'my35',\n",
       " b'my206',\n",
       " b'my178',\n",
       " b'my207',\n",
       " b'my54',\n",
       " b'my167',\n",
       " b'my20',\n",
       " b'my131',\n",
       " b'my225',\n",
       " b'my156',\n",
       " b'my210',\n",
       " b'my68',\n",
       " b'my194',\n",
       " b'my176',\n",
       " b'my67',\n",
       " b'my108',\n",
       " b'my41',\n",
       " b'my89',\n",
       " b'my140',\n",
       " b'my169',\n",
       " b'my236',\n",
       " b'my60',\n",
       " b'my136',\n",
       " b'my251',\n",
       " b'my188',\n",
       " b'my98',\n",
       " b'my105',\n",
       " b'c',\n",
       " b'my38',\n",
       " b'my59',\n",
       " b'my138',\n",
       " b'my242',\n",
       " b'my245',\n",
       " b'my1',\n",
       " b'my267',\n",
       " b'my151',\n",
       " b'my94',\n",
       " b'my73',\n",
       " b'my119',\n",
       " b'my224',\n",
       " b'my141',\n",
       " b'my22',\n",
       " b'my64',\n",
       " b'my32',\n",
       " b'my127',\n",
       " b'my235',\n",
       " b'my80',\n",
       " b'b',\n",
       " b'my278',\n",
       " b'my97',\n",
       " b'my49',\n",
       " b'my104',\n",
       " b'my45',\n",
       " b'my179',\n",
       " b'my42',\n",
       " b'my36',\n",
       " b'my56',\n",
       " b'my185',\n",
       " b'my155',\n",
       " b'my117',\n",
       " b'my227',\n",
       " b'my248',\n",
       " b'my223',\n",
       " b'my148',\n",
       " b'my196',\n",
       " b'my240',\n",
       " b'my204',\n",
       " b'my269',\n",
       " b'my82',\n",
       " b'my209',\n",
       " b'my216',\n",
       " b'my181',\n",
       " b'my238',\n",
       " b'my275',\n",
       " b'my137',\n",
       " b'my120',\n",
       " b'my203',\n",
       " b'my92',\n",
       " b'my212',\n",
       " b'my93',\n",
       " b'my85',\n",
       " b'my241',\n",
       " b'my39',\n",
       " b'my232',\n",
       " b'my180',\n",
       " b'my173',\n",
       " b'my222',\n",
       " b'my9',\n",
       " b'my219',\n",
       " b'my30',\n",
       " b'my50',\n",
       " b'my164',\n",
       " b'my200',\n",
       " b'my99',\n",
       " b'my10',\n",
       " b'my218',\n",
       " b'my237',\n",
       " b'my272',\n",
       " b'my145',\n",
       " b'my205',\n",
       " b'my121',\n",
       " b'my76',\n",
       " b'my130',\n",
       " b'my118',\n",
       " b'my95',\n",
       " b'my63',\n",
       " b'my114',\n",
       " b'my11',\n",
       " b'my193',\n",
       " b'my255',\n",
       " b'my211',\n",
       " b'my62',\n",
       " b'my110',\n",
       " b'my234',\n",
       " b'my264',\n",
       " b'my51',\n",
       " b'my273',\n",
       " b'my48',\n",
       " b'my261',\n",
       " b'my256',\n",
       " b'my57',\n",
       " b'a',\n",
       " b'my166',\n",
       " b'my276',\n",
       " b'my268',\n",
       " b'my126',\n",
       " b'my159',\n",
       " b'my34',\n",
       " b'my23',\n",
       " b'my175',\n",
       " b'my215',\n",
       " b'my149',\n",
       " b'my195',\n",
       " b'my183',\n",
       " b'd',\n",
       " b'my147',\n",
       " b'my280',\n",
       " b'my72',\n",
       " b'my243',\n",
       " b'my174',\n",
       " b'my132',\n",
       " b'my233',\n",
       " b'my184',\n",
       " b'my58',\n",
       " b'my162',\n",
       " b'my217',\n",
       " b'my154',\n",
       " b'my279',\n",
       " b'my177',\n",
       " b'my46',\n",
       " b'my12',\n",
       " b'my150',\n",
       " b'my6',\n",
       " b'my186',\n",
       " b'my134',\n",
       " b'my24',\n",
       " b'my3',\n",
       " b'my265',\n",
       " b'my37',\n",
       " b'my259',\n",
       " b'my190',\n",
       " b'my144',\n",
       " b'my19',\n",
       " b'my260',\n",
       " b'my157',\n",
       " b'my47',\n",
       " b'my90',\n",
       " b'my31',\n",
       " b'my116',\n",
       " b'my198',\n",
       " b'my69',\n",
       " b'my107',\n",
       " b'my128',\n",
       " b'my160',\n",
       " b'my5',\n",
       " b'my129',\n",
       " b'my106',\n",
       " b'my133',\n",
       " b'my109',\n",
       " b'my229',\n",
       " b'my43',\n",
       " b'my21',\n",
       " b'my158',\n",
       " b'my87',\n",
       " b'my197',\n",
       " b'my153',\n",
       " b'my192',\n",
       " b'my123',\n",
       " b'my143',\n",
       " b'my208',\n",
       " b'my4',\n",
       " b'my17',\n",
       " b'my65',\n",
       " b'my13',\n",
       " b'my79',\n",
       " b'my18',\n",
       " b'my246',\n",
       " b'my170',\n",
       " b'my165',\n",
       " b'my189',\n",
       " b'my7',\n",
       " b'my263',\n",
       " b'my249',\n",
       " b'my113',\n",
       " b'my86',\n",
       " b'my213',\n",
       " b'my230',\n",
       " b'my254',\n",
       " b'my125',\n",
       " b'my103',\n",
       " b'my29',\n",
       " b'my257',\n",
       " b'my199',\n",
       " b'my262',\n",
       " b'my168',\n",
       " b'my252',\n",
       " b'my2',\n",
       " b'my142',\n",
       " b'my270',\n",
       " b'my231',\n",
       " b'my96',\n",
       " b'my163',\n",
       " b'my191',\n",
       " b'my112',\n",
       " b'my74',\n",
       " b'my201',\n",
       " b'my244',\n",
       " b'my25',\n",
       " b'my14',\n",
       " b'my84',\n",
       " b'my44',\n",
       " b'my172',\n",
       " b'my247',\n",
       " b'my66',\n",
       " b'my139',\n",
       " b'my88']"
      ]
     },
     "execution_count": 35,
     "metadata": {},
     "output_type": "execute_result"
    }
   ],
   "source": [
    "r.keys()"
   ]
  }
 ],
 "metadata": {
  "kernelspec": {
   "display_name": "Python 3",
   "language": "python",
   "name": "python3"
  },
  "language_info": {
   "codemirror_mode": {
    "name": "ipython",
    "version": 3
   },
   "file_extension": ".py",
   "mimetype": "text/x-python",
   "name": "python",
   "nbconvert_exporter": "python",
   "pygments_lexer": "ipython3",
   "version": "3.12.1"
  }
 },
 "nbformat": 4,
 "nbformat_minor": 2
}
